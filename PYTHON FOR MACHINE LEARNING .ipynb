{
 "cells": [
  {
   "cell_type": "markdown",
   "id": "potential-performer",
   "metadata": {},
   "source": [
    "# Questions based on the African food production dataset provided by the FAO website\n",
    "url = \"https://github.com/HamoyeHQ/HDSC-Introduction-to-Python-for-machine-learning\"\n",
    "    "
   ]
  },
  {
   "cell_type": "code",
   "execution_count": 4,
   "id": "measured-burns",
   "metadata": {},
   "outputs": [
    {
     "ename": "AttributeError",
     "evalue": "module 'pandas' has no attribute 'read_url'",
     "output_type": "error",
     "traceback": [
      "\u001b[1;31m---------------------------------------------------------------------------\u001b[0m",
      "\u001b[1;31mAttributeError\u001b[0m                            Traceback (most recent call last)",
      "Input \u001b[1;32mIn [4]\u001b[0m, in \u001b[0;36m<cell line: 5>\u001b[1;34m()\u001b[0m\n\u001b[0;32m      3\u001b[0m url \u001b[38;5;241m=\u001b[39m \u001b[38;5;124m\"\u001b[39m\u001b[38;5;124mhttps://github.com/HamoyeHQ/HDSC-Introduction-to-Python-for-machine-learning\u001b[39m\u001b[38;5;124m\"\u001b[39m\n\u001b[0;32m      4\u001b[0m url \u001b[38;5;241m=\u001b[39m \u001b[38;5;124m\"\u001b[39m\u001b[38;5;124mhttps://github.com/HamoyeHQ/HDSC-Introduction-to-Python-for-machine-learning/files/7768140/FoodBalanceSheets_E_Africa_NOFLAG.csv\u001b[39m\u001b[38;5;124m\"\u001b[39m\n\u001b[1;32m----> 5\u001b[0m fao_df \u001b[38;5;241m=\u001b[39m \u001b[43mpd\u001b[49m\u001b[38;5;241;43m.\u001b[39;49m\u001b[43mread_url\u001b[49m(\u001b[38;5;124m'\u001b[39m\u001b[38;5;124mfao.csv\u001b[39m\u001b[38;5;124m'\u001b[39m, encoding\u001b[38;5;241m=\u001b[39m\u001b[38;5;124m'\u001b[39m\u001b[38;5;124mISO-8859-1\u001b[39m\u001b[38;5;124m'\u001b[39m)\n\u001b[0;32m      6\u001b[0m fao_df\n",
      "File \u001b[1;32m~\\AppData\\Roaming\\Python\\Python39\\site-packages\\pandas\\__init__.py:258\u001b[0m, in \u001b[0;36m__getattr__\u001b[1;34m(name)\u001b[0m\n\u001b[0;32m    254\u001b[0m     \u001b[38;5;28;01mfrom\u001b[39;00m \u001b[38;5;21;01mpandas\u001b[39;00m\u001b[38;5;21;01m.\u001b[39;00m\u001b[38;5;21;01mcore\u001b[39;00m\u001b[38;5;21;01m.\u001b[39;00m\u001b[38;5;21;01marrays\u001b[39;00m\u001b[38;5;21;01m.\u001b[39;00m\u001b[38;5;21;01msparse\u001b[39;00m \u001b[38;5;28;01mimport\u001b[39;00m SparseArray \u001b[38;5;28;01mas\u001b[39;00m _SparseArray\n\u001b[0;32m    256\u001b[0m     \u001b[38;5;28;01mreturn\u001b[39;00m _SparseArray\n\u001b[1;32m--> 258\u001b[0m \u001b[38;5;28;01mraise\u001b[39;00m \u001b[38;5;167;01mAttributeError\u001b[39;00m(\u001b[38;5;124mf\u001b[39m\u001b[38;5;124m\"\u001b[39m\u001b[38;5;124mmodule \u001b[39m\u001b[38;5;124m'\u001b[39m\u001b[38;5;124mpandas\u001b[39m\u001b[38;5;124m'\u001b[39m\u001b[38;5;124m has no attribute \u001b[39m\u001b[38;5;124m'\u001b[39m\u001b[38;5;132;01m{\u001b[39;00mname\u001b[38;5;132;01m}\u001b[39;00m\u001b[38;5;124m'\u001b[39m\u001b[38;5;124m\"\u001b[39m)\n",
      "\u001b[1;31mAttributeError\u001b[0m: module 'pandas' has no attribute 'read_url'"
     ]
    }
   ],
   "source": [
    "import numpy as np\n",
    "import pandas as pd\n",
    "url = \"https://github.com/HamoyeHQ/HDSC-Introduction-to-Python-for-machine-learning\"\n",
    "url = \"https://github.com/HamoyeHQ/HDSC-Introduction-to-Python-for-machine-learning/files/7768140/FoodBalanceSheets_E_Africa_NOFLAG.csv\"\n",
    "fao_df = pd.read_csv('fao.csv', encoding='ISO-8859-1')\n",
    "fao_df"
   ]
  },
  {
   "cell_type": "markdown",
   "id": "canadian-liberty",
   "metadata": {},
   "source": [
    "Q11. What is the total sum of Animal Fat produced in 2014 and 2017 respectively?\n",
    "\n",
    "Hint:   Perform a groupby sum aggregation on ‘Item’\n",
    "\n",
    "Answer: 209460.54 and 269617.53"
   ]
  },
  {
   "cell_type": "code",
   "execution_count": null,
   "id": "innovative-frame",
   "metadata": {},
   "outputs": [],
   "source": [
    "fao_df.groupby('Item')['Y2014', 'Y2017'].sum()"
   ]
  },
  {
   "cell_type": "markdown",
   "id": "enormous-motor",
   "metadata": {},
   "source": [
    "Q12. What is the mean and standard deviation across the whole dataset for the year 2015 to 3 decimal places?\n",
    "\n",
    "Answer: 135.236 and 1603.404"
   ]
  },
  {
   "cell_type": "code",
   "execution_count": null,
   "id": "choice-balance",
   "metadata": {},
   "outputs": [],
   "source": [
    "print(fao_df['Y2015'].std())\n",
    "print(fao_df['Y2015'].mean())"
   ]
  },
  {
   "cell_type": "markdown",
   "id": "knowing-admission",
   "metadata": {},
   "source": [
    "Q13. What is the total number and percentage of missing data in 2016 to 2 decimal places?\n",
    "\n",
    "Answer: 1535 and 2.52"
   ]
  },
  {
   "cell_type": "code",
   "execution_count": null,
   "id": "thick-shelf",
   "metadata": {},
   "outputs": [],
   "source": [
    "fao_df['Y2016'].isnull().sum()"
   ]
  },
  {
   "cell_type": "markdown",
   "id": "incorrect-facility",
   "metadata": {},
   "source": [
    "Q14. Which year had the highest correlation with ‘Element Code’? \n",
    "Answer: 2014"
   ]
  },
  {
   "cell_type": "code",
   "execution_count": null,
   "id": "brave-paste",
   "metadata": {},
   "outputs": [],
   "source": [
    "fao_df.corr(method='pearson')"
   ]
  },
  {
   "cell_type": "markdown",
   "id": "square-excitement",
   "metadata": {},
   "source": [
    "Q15. What year has the highest sum of Import Quantity?\n",
    "     Hint- Perform a groupby operation on ‘Element’ and use the resulting Dataframe to answer the question\n",
    "Answer: Y2017"
   ]
  },
  {
   "cell_type": "code",
   "execution_count": null,
   "id": "checked-glory",
   "metadata": {},
   "outputs": [],
   "source": [
    "fao_df.groupby('Element')['Y2014', 'Y2015', 'Y2016', 'Y2017'].sum()"
   ]
  },
  {
   "cell_type": "markdown",
   "id": "severe-cardiff",
   "metadata": {},
   "source": [
    "Q16. What is the total number of the sum of Production in 2014?\n",
    "     Hint- Perform a groupby operation on ‘Element’ and use the resulting Dataframe to answer the question\n",
    "Answer: 1931287.75"
   ]
  },
  {
   "cell_type": "code",
   "execution_count": null,
   "id": "cathedral-baking",
   "metadata": {},
   "outputs": [],
   "source": [
    "fao_df.groupby('Element')['Y2014', 'Y2015', 'Y2016', 'Y2017'].sum()"
   ]
  },
  {
   "cell_type": "markdown",
   "id": "killing-thread",
   "metadata": {},
   "source": [
    "Q17. Which of these elements had the highest sum in 2018?\n",
    "   Hint-  Select columns ‘Y2018’ and ‘Element’, Perform a groupby operation on ‘Element’ on the selected dataframe and answer the  question.\n",
    "Answer: Domestic supply quantity    "
   ]
  },
  {
   "cell_type": "code",
   "execution_count": null,
   "id": "divided-strap",
   "metadata": {},
   "outputs": [],
   "source": [
    "fao_df.groupby('Element')['Element', 'Y2018'].sum()"
   ]
  },
  {
   "cell_type": "markdown",
   "id": "ignored-ordinary",
   "metadata": {},
   "source": [
    "Q18. Which of these elements had the 3rd lowest sum in 2018?\n",
    "   Hint-  Select columns ‘Y2018’ and ‘Element’, Perform a groupby operation on ‘Element’ on the selected dataframe and answer the  question.\n",
    "Answer: Protein supply quantity (g/capita/day)"
   ]
  },
  {
   "cell_type": "code",
   "execution_count": null,
   "id": "anticipated-textbook",
   "metadata": {},
   "outputs": [],
   "source": [
    "fao_df.groupby('Element')['Element', 'Y2018'].sum()"
   ]
  },
  {
   "cell_type": "markdown",
   "id": "attractive-houston",
   "metadata": {},
   "source": [
    "Q19. What is the total Import Quantity in Algeria in 2018?\n",
    "Answer: 36238.29"
   ]
  },
  {
   "cell_type": "code",
   "execution_count": null,
   "id": "united-associate",
   "metadata": {},
   "outputs": [],
   "source": [
    "fao_df.groupby(['Area', 'Element'])['Y2018'].sum().filter(like=\"Algeria\", axis=0)"
   ]
  },
  {
   "cell_type": "markdown",
   "id": "classical-danish",
   "metadata": {},
   "source": [
    "Q20. What is the total number of unique countries in the dataset?\n",
    "Answer: 49"
   ]
  },
  {
   "cell_type": "code",
   "execution_count": null,
   "id": "durable-upper",
   "metadata": {},
   "outputs": [],
   "source": [
    "fao_df.groupby('Area')['Area'].ngroups"
   ]
  },
  {
   "cell_type": "code",
   "execution_count": null,
   "id": "concerned-extraction",
   "metadata": {},
   "outputs": [],
   "source": []
  }
 ],
 "metadata": {
  "kernelspec": {
   "display_name": "Python 3 (ipykernel)",
   "language": "python",
   "name": "python3"
  },
  "language_info": {
   "codemirror_mode": {
    "name": "ipython",
    "version": 3
   },
   "file_extension": ".py",
   "mimetype": "text/x-python",
   "name": "python",
   "nbconvert_exporter": "python",
   "pygments_lexer": "ipython3",
   "version": "3.9.7"
  }
 },
 "nbformat": 4,
 "nbformat_minor": 5
}
